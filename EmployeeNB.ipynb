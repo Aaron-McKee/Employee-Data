{
 "cells": [
  {
   "cell_type": "code",
   "execution_count": 1,
   "metadata": {},
   "outputs": [],
   "source": [
    "%run app.py"
   ]
  },
  {
   "cell_type": "code",
   "execution_count": 2,
   "metadata": {},
   "outputs": [
    {
     "name": "stderr",
     "output_type": "stream",
     "text": [
      "/tmp/ipykernel_741/530473202.py:1: SAWarning: relationship 'Employee.dept' will copy column departments.dept_code to column employees.dept_code, which conflicts with relationship(s): 'Department.employees' (copies departments.dept_code to employees.dept_code). If this is not the intention, consider if these relationships should be linked with back_populates, or if viewonly=True should be applied to one or more if they are read-only. For the less common case that foreign key constraints are partially overlapping, the orm.foreign() annotation can be used to isolate the columns that should be written towards.   To silence this warning, add the parameter 'overlaps=\"employees\"' to the 'Employee.dept' relationship. (Background on this error at: https://sqlalche.me/e/20/qzyx) (This warning originated from the `configure_mappers()` process, which was invoked automatically in response to a user-initiated operation.)\n",
      "  new_dept = Department(dept_code='lg', dept_name=\"legal\", phone=\"254-5232\")\n",
      "/tmp/ipykernel_741/530473202.py:1: SAWarning: relationship 'Project.employees' will copy column employees.id to column employee_projects.emp_id, which conflicts with relationship(s): 'Employee.assignments' (copies employees.id to employee_projects.emp_id), 'EmployeeProject.employee' (copies employees.id to employee_projects.emp_id). If this is not the intention, consider if these relationships should be linked with back_populates, or if viewonly=True should be applied to one or more if they are read-only. For the less common case that foreign key constraints are partially overlapping, the orm.foreign() annotation can be used to isolate the columns that should be written towards.   To silence this warning, add the parameter 'overlaps=\"assignments,employee\"' to the 'Project.employees' relationship. (Background on this error at: https://sqlalche.me/e/20/qzyx) (This warning originated from the `configure_mappers()` process, which was invoked automatically in response to a user-initiated operation.)\n",
      "  new_dept = Department(dept_code='lg', dept_name=\"legal\", phone=\"254-5232\")\n",
      "/tmp/ipykernel_741/530473202.py:1: SAWarning: relationship 'Employee.projects' will copy column employees.id to column employee_projects.emp_id, which conflicts with relationship(s): 'Employee.assignments' (copies employees.id to employee_projects.emp_id), 'EmployeeProject.employee' (copies employees.id to employee_projects.emp_id). If this is not the intention, consider if these relationships should be linked with back_populates, or if viewonly=True should be applied to one or more if they are read-only. For the less common case that foreign key constraints are partially overlapping, the orm.foreign() annotation can be used to isolate the columns that should be written towards.   To silence this warning, add the parameter 'overlaps=\"assignments,employee\"' to the 'Employee.projects' relationship. (Background on this error at: https://sqlalche.me/e/20/qzyx) (This warning originated from the `configure_mappers()` process, which was invoked automatically in response to a user-initiated operation.)\n",
      "  new_dept = Department(dept_code='lg', dept_name=\"legal\", phone=\"254-5232\")\n",
      "/tmp/ipykernel_741/530473202.py:1: SAWarning: relationship 'EmployeeProject.project' will copy column projects.proj_code to column employee_projects.proj_code, which conflicts with relationship(s): 'Employee.projects' (copies projects.proj_code to employee_projects.proj_code), 'Project.employees' (copies projects.proj_code to employee_projects.proj_code). If this is not the intention, consider if these relationships should be linked with back_populates, or if viewonly=True should be applied to one or more if they are read-only. For the less common case that foreign key constraints are partially overlapping, the orm.foreign() annotation can be used to isolate the columns that should be written towards.   To silence this warning, add the parameter 'overlaps=\"employees,projects\"' to the 'EmployeeProject.project' relationship. (Background on this error at: https://sqlalche.me/e/20/qzyx) (This warning originated from the `configure_mappers()` process, which was invoked automatically in response to a user-initiated operation.)\n",
      "  new_dept = Department(dept_code='lg', dept_name=\"legal\", phone=\"254-5232\")\n",
      "/tmp/ipykernel_741/530473202.py:1: SAWarning: relationship 'Project.assignments' will copy column projects.proj_code to column employee_projects.proj_code, which conflicts with relationship(s): 'Employee.projects' (copies projects.proj_code to employee_projects.proj_code), 'Project.employees' (copies projects.proj_code to employee_projects.proj_code). If this is not the intention, consider if these relationships should be linked with back_populates, or if viewonly=True should be applied to one or more if they are read-only. For the less common case that foreign key constraints are partially overlapping, the orm.foreign() annotation can be used to isolate the columns that should be written towards.   To silence this warning, add the parameter 'overlaps=\"employees,projects\"' to the 'Project.assignments' relationship. (Background on this error at: https://sqlalche.me/e/20/qzyx) (This warning originated from the `configure_mappers()` process, which was invoked automatically in response to a user-initiated operation.)\n",
      "  new_dept = Department(dept_code='lg', dept_name=\"legal\", phone=\"254-5232\")\n"
     ]
    }
   ],
   "source": [
    "new_dept = Department(dept_code='lg', dept_name=\"legal\", phone=\"254-5232\")"
   ]
  },
  {
   "cell_type": "code",
   "execution_count": 3,
   "metadata": {},
   "outputs": [],
   "source": [
    "db.session.add(new_dept)"
   ]
  },
  {
   "cell_type": "code",
   "execution_count": 4,
   "metadata": {},
   "outputs": [
    {
     "name": "stdout",
     "output_type": "stream",
     "text": [
      "2023-04-19 21:04:58,691 INFO sqlalchemy.engine.Engine select pg_catalog.version()\n",
      "2023-04-19 21:04:58,692 INFO sqlalchemy.engine.Engine [raw sql] {}\n",
      "2023-04-19 21:04:58,693 INFO sqlalchemy.engine.Engine select current_schema()\n",
      "2023-04-19 21:04:58,693 INFO sqlalchemy.engine.Engine [raw sql] {}\n",
      "2023-04-19 21:04:58,694 INFO sqlalchemy.engine.Engine show standard_conforming_strings\n",
      "2023-04-19 21:04:58,694 INFO sqlalchemy.engine.Engine [raw sql] {}\n",
      "2023-04-19 21:04:58,695 INFO sqlalchemy.engine.Engine BEGIN (implicit)\n",
      "2023-04-19 21:04:58,697 INFO sqlalchemy.engine.Engine INSERT INTO departments (dept_code, dept_name, phone) VALUES (%(dept_code)s, %(dept_name)s, %(phone)s)\n",
      "2023-04-19 21:04:58,697 INFO sqlalchemy.engine.Engine [generated in 0.00050s] {'dept_code': 'lg', 'dept_name': 'legal', 'phone': '254-5232'}\n",
      "2023-04-19 21:04:58,698 INFO sqlalchemy.engine.Engine COMMIT\n"
     ]
    }
   ],
   "source": [
    "db.session.commit()"
   ]
  }
 ],
 "metadata": {
  "kernelspec": {
   "display_name": "venv",
   "language": "python",
   "name": "python3"
  },
  "language_info": {
   "codemirror_mode": {
    "name": "ipython",
    "version": 3
   },
   "file_extension": ".py",
   "mimetype": "text/x-python",
   "name": "python",
   "nbconvert_exporter": "python",
   "pygments_lexer": "ipython3",
   "version": "3.8.10"
  },
  "orig_nbformat": 4
 },
 "nbformat": 4,
 "nbformat_minor": 2
}
